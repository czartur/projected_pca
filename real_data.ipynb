{
 "cells": [
  {
   "cell_type": "code",
   "execution_count": null,
   "metadata": {},
   "outputs": [],
   "source": [
    "%matplotlib inline \n",
    "import pandas as pd \n",
    "import numpy as np\n",
    "import matplotlib.pyplot as plt\n",
    "\n",
    "from PPCA import ProjectedPCA"
   ]
  },
  {
   "attachments": {},
   "cell_type": "markdown",
   "metadata": {},
   "source": [
    "# data extraction"
   ]
  },
  {
   "cell_type": "code",
   "execution_count": null,
   "metadata": {},
   "outputs": [],
   "source": [
    "def get_data(start_date: int = 0, final_date: int = 24, shape: str = '') -> tuple[pd.DataFrame, pd.DataFrame] :\n",
    "    \n",
    "    # info\n",
    "    info = pd.read_csv('./data/info_charact.csv', index_col = 0)\n",
    "    char_names = info.iloc[:, 0]\n",
    "    file_names = np.array([str(x) + '.csv' for x in info.index.values])\n",
    "    d = len(info)-1\n",
    "    \n",
    "    parse = lambda  x : pd.read_csv(f'./data/{x}', index_col = 0, parse_dates = True)\n",
    "    \n",
    "    # filter NaN values \n",
    "    data_list = [parse(file).iloc[start_date:final_date+1, :] for file in file_names if file != '44.csv']\n",
    "    asset_names = list(set.intersection(*[set(df.dropna(axis=1).columns.values) for df in data_list]))\n",
    "    \n",
    "    # get features \n",
    "    X_train = pd.DataFrame(data=[df[asset_names].iloc[:-1,:].mean() for df in data_list], index=list(char_names[:-1])).T\n",
    "    X_test = pd.DataFrame(data=[df[asset_names].iloc[1:,:].mean() for df in data_list], index=list(char_names[:-1])).T\n",
    "    \n",
    "    # get returns [range]\n",
    "    Y = parse('44.csv')[asset_names].T\n",
    "    Y_train, Y_test = Y.iloc[:, start_date:final_date], Y.iloc[:, start_date+1:final_date+1]\n",
    "    \n",
    "    # choice of shapes'\n",
    "    # normalize (column ~ [0 mean, 1 std])\n",
    "    if shape == 'norm':\n",
    "        norm  = lambda x : (x-x.mean())/x.std()\n",
    "        X_train, X_test = norm(X_train), norm(X_test)\n",
    "        Y_train, Y_test = norm(Y_train), norm(Y_test)\n",
    "\n",
    "    # scale (column ~ [0,1] range)\n",
    "    elif shape == 'minmax':\n",
    "        scale = lambda x : (x-x.min())/(x.max()-x.min())\n",
    "        X_train, X_test = scale(X_train), scale(X_test)\n",
    "        Y_train, Y_test = scale(Y_train), scale(Y_test)\n",
    "     \n",
    "    \n",
    "    return X_train, X_test, Y_train, Y_test\n"
   ]
  },
  {
   "cell_type": "code",
   "execution_count": null,
   "metadata": {},
   "outputs": [],
   "source": [
    "from sklearn.linear_model import LinearRegression\n",
    "from sklearn.ensemble import RandomForestRegressor\n",
    "from sklearn.model_selection import train_test_split\n",
    "from sklearn.metrics import mean_squared_error, mean_absolute_error, r2_score\n",
    "\n",
    "def get_error(t_in, t_out, model, metric, n_iterations):\n",
    "    X, _, Y , _= get_data(t_in, t_out, 'norm')\n",
    "    error = 0\n",
    "    for i in range(n_iterations):\n",
    "        X_train, X_test, y_train, y_test = train_test_split(X.to_numpy(),Y.to_numpy(), test_size = 0.25)\n",
    "        if isinstance(model, ProjectedPCA): reg = model.fit(X_train, y_train)\n",
    "        else: reg = model().fit(X_train, y_train)\n",
    "        y_pred = reg.predict(X_test)\n",
    "        error += metric(y_test, y_pred)\n",
    "    return error/n_iterations\n"
   ]
  },
  {
   "attachments": {},
   "cell_type": "markdown",
   "metadata": {},
   "source": [
    "# First 30 months"
   ]
  },
  {
   "cell_type": "code",
   "execution_count": null,
   "metadata": {},
   "outputs": [],
   "source": [
    "metric = mean_absolute_error\n",
    "n_iterations = 100\n",
    "error_PPCA = get_error(0, 30, ProjectedPCA('spl', K = 1, J = 4), metric, n_iterations)\n",
    "error_linreg = get_error(0, 30, LinearRegression, metric, n_iterations)\n",
    "error_rfr = get_error(0, 30, RandomForestRegressor, metric, n_iterations)\n",
    "\n",
    "print(error_PPCA)\n",
    "print(error_linreg)\n",
    "print(error_rfr)"
   ]
  },
  {
   "attachments": {},
   "cell_type": "markdown",
   "metadata": {},
   "source": [
    "# Rolling window plots"
   ]
  },
  {
   "cell_type": "code",
   "execution_count": null,
   "metadata": {},
   "outputs": [],
   "source": [
    "## Rolling window\n",
    "def rolling_window_errors(metric, n_iterations = 100, window = 30):\n",
    "    error_PPCA = np.empty(270-window)\n",
    "    error_linreg = np.empty(270-window)\n",
    "    error_rfr = np.empty(270-window)\n",
    "\n",
    "    for t in range(270-window):\n",
    "        error_PPCA[t] = get_error(t, t+window, ProjectedPCA('spl', K = 1, J = 4), metric, n_iterations)\n",
    "        error_linreg[t] = get_error(t, t+window, LinearRegression, metric, n_iterations)\n",
    "        error_rfr[t] = get_error(t, t+window, RandomForestRegressor, metric, n_iterations)\n",
    "    return error_PPCA, error_linreg, error_rfr\n",
    "\n",
    "def plot_error_range(errors, metric_name, start = 0, end = 30):\n",
    "    error_PPCA, error_linreg, error_rfr = errors\n",
    "\n",
    "    x_plot = np.arange(start, end)\n",
    "\n",
    "    # scatter\n",
    "    plt.scatter(x_plot, error_PPCA[:len(x_plot)], label = 'P-PCA')\n",
    "    plt.scatter(x_plot, error_linreg[:len(x_plot)], label = 'Linear Regression')\n",
    "    plt.scatter(x_plot, error_rfr[:len(x_plot)], label = 'Random Forest')\n",
    "\n",
    "    # linear\n",
    "    plt.plot(x_plot, error_PPCA[:len(x_plot)])\n",
    "    plt.plot(x_plot, error_linreg[:len(x_plot)])\n",
    "    plt.plot(x_plot, error_rfr[:len(x_plot)])\n",
    "\n",
    "    # best line fit\n",
    "    a, b = np.polyfit(x_plot, error_PPCA[:len(x_plot)], 1)\n",
    "    plt.plot(x_plot, a*x_plot+b, label = \"fit-P-PCA\")\n",
    "\n",
    "    a, b = np.polyfit(x_plot, error_linreg[:len(x_plot)], 1)\n",
    "    plt.plot(x_plot, a*x_plot+b, label = \"fit-Linear Regression\")\n",
    "\n",
    "    a, b = np.polyfit(x_plot, error_rfr[:len(x_plot)], 1)\n",
    "    plt.plot(x_plot, a*x_plot+b, label = \"fit-Random Forest\")\n",
    "\n",
    "    plt.title(f'Errors for {metric_name}')\n",
    "    plt.legend()\n",
    "    plt.show()"
   ]
  },
  {
   "cell_type": "code",
   "execution_count": null,
   "metadata": {},
   "outputs": [],
   "source": [
    "metric_name = 'R2'\n",
    "errors = rolling_window_errors(r2_score, n_iterations = 100, window = 30)\n",
    "plot_error_range(errors, metric_name, start = 0, end = 100)"
   ]
  },
  {
   "cell_type": "code",
   "execution_count": null,
   "metadata": {},
   "outputs": [],
   "source": [
    "metric_name = 'MAE'\n",
    "errors = rolling_window_errors(mean_absolute_error, n_iterations = 100, window = 30)\n",
    "plot_error_range(errors, metric_name, start = 0, end = 100)"
   ]
  }
 ],
 "metadata": {
  "kernelspec": {
   "display_name": "Python 3",
   "language": "python",
   "name": "python3"
  },
  "language_info": {
   "codemirror_mode": {
    "name": "ipython",
    "version": 3
   },
   "file_extension": ".py",
   "mimetype": "text/x-python",
   "name": "python",
   "nbconvert_exporter": "python",
   "pygments_lexer": "ipython3",
   "version": "3.10.6"
  },
  "orig_nbformat": 4
 },
 "nbformat": 4,
 "nbformat_minor": 2
}
